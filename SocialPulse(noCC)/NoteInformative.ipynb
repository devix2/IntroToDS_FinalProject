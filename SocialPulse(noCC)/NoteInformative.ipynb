{
 "cells": [
  {
   "cell_type": "code",
   "execution_count": 1,
   "id": "1039eb2f",
   "metadata": {},
   "outputs": [
    {
     "name": "stdout",
     "output_type": "stream",
     "text": [
      "POINT (1 4)\n",
      "POINT (0 3)\n",
      "0    False\n",
      "1     True\n",
      "Name: geometry, dtype: bool\n",
      "                  geometry\n",
      "1  POINT (0.00000 3.00000)\n"
     ]
    }
   ],
   "source": [
    "from shapely.ops import nearest_points\n",
    "from shapely.geometry import Point\n",
    "import geopandas as gpd\n",
    "\n",
    "print(nearest_points(Point(0,2), Point(1,4))[1])  #Crea tupla in cui butta primo e secondo numero\n",
    "\n",
    "A=gpd.GeoDataFrame()\n",
    "A[\"geometry\"]=[Point(1,4), Point(0,3)]\n",
    "\n",
    "##Serve passare per dataframe per fare unary union (non so how altrimenti, sicuro c'è modo)\n",
    "u=nearest_points(Point(0,2), A.geometry.unary_union)[1]\n",
    "print(u)\n",
    "\n",
    "nearest=A[\"geometry\"]==u\n",
    "print(nearest)\n",
    "\n",
    "print(A[nearest])  \n",
    "#print(A[u])\n",
    "\n",
    "#Metti tutto insieme, e trovi la stazione giusta\n",
    "\n",
    "#Giusto come nota:  stations[[True]*20+[False]*16][\"station\"].values[0]"
   ]
  },
  {
   "cell_type": "code",
   "execution_count": 2,
   "id": "2f47ac88",
   "metadata": {},
   "outputs": [
    {
     "data": {
      "text/plain": [
       "0    POINT (1.00000 4.00000)\n",
       "1    POINT (0.00000 3.00000)\n",
       "Name: geometry, dtype: geometry"
      ]
     },
     "execution_count": 2,
     "metadata": {},
     "output_type": "execute_result"
    }
   ],
   "source": [
    "A.geometry"
   ]
  },
  {
   "cell_type": "code",
   "execution_count": null,
   "id": "be99d39e",
   "metadata": {},
   "outputs": [],
   "source": []
  },
  {
   "cell_type": "code",
   "execution_count": null,
   "id": "40e26e03",
   "metadata": {},
   "outputs": [],
   "source": [
    "\n"
   ]
  },
  {
   "cell_type": "markdown",
   "id": "757f5445",
   "metadata": {},
   "source": [
    "# Parte machine learning"
   ]
  },
  {
   "cell_type": "code",
   "execution_count": 4,
   "id": "1e77177c",
   "metadata": {},
   "outputs": [],
   "source": [
    "import numpy as np\n",
    "import geopandas as gpd\n",
    "import pandas as pd\n",
    "\n",
    "# funzioni di sk-learn\n",
    "from sklearn.pipeline import Pipeline\n",
    "from sklearn.ensemble import RandomForestClassifier, RandomForestRegressor\n",
    "from sklearn.neighbors import KNeighborsRegressor\n",
    "from sklearn.linear_model import LogisticRegression\n",
    "from sklearn.model_selection import GridSearchCV, cross_validate\n",
    "from sklearn.linear_model import Ridge\n",
    "from sklearn.preprocessing import OneHotEncoder, StandardScaler, RobustScaler\n",
    "from sklearn.metrics import matthews_corrcoef, r2_score, accuracy_score, confusion_matrix, plot_confusion_matrix\n",
    "from sklearn.model_selection import train_test_split\n",
    "\n",
    "# custom lib\n",
    "import Supporto_ML as supp_ML\n",
    "\n"
   ]
  },
  {
   "cell_type": "code",
   "execution_count": 7,
   "id": "6a6179e3",
   "metadata": {},
   "outputs": [
    {
     "name": "stdout",
     "output_type": "stream",
     "text": [
      "score=-1.012098\n"
     ]
    }
   ],
   "source": [
    "#Works as expected, riesce a fittare la funzione identità tra 0 e 10 con circa 15 dati\n",
    "#MA SE AUMENTO IL NUMERO MASSIMO aggiungere l'encoder rovina di violenza la stima (prende la colonna int come onehot)\n",
    "    #QUESTO VA FIXATO\n",
    "N=500\n",
    "mx=1000\n",
    "x=np.floor(mx*np.random.rand(N)).astype(int)\n",
    "\n",
    "y=x\n",
    "x=x.reshape(-1, 1)\n",
    "\n",
    "\n",
    "\n",
    "\n",
    "pipe_logistic = Pipeline([\n",
    "    ('encoder', OneHotEncoder(sparse=False, handle_unknown='ignore')),\n",
    "    ('scaler', StandardScaler()),\n",
    "    ('regressor', LogisticRegression())\n",
    "])\n",
    "\n",
    "pipe_logistic = pipe_logistic.fit(x, y)\n",
    "\n",
    "x_test=np.floor(mx*np.random.rand(N))\n",
    "x_test=np.array([int(i) for i in x_test])\n",
    "x_test=x_test.reshape(-1, 1)\n",
    "\n",
    "\n",
    "y_pred = pipe_logistic.predict(x_test)\n",
    "\n",
    "\n",
    "print(\"score=%f\" % r2_score(y_pred, x_test))\n",
    "#np.transpose(x_test)-y_pred"
   ]
  },
  {
   "cell_type": "code",
   "execution_count": 6,
   "id": "5f34f781",
   "metadata": {},
   "outputs": [
    {
     "name": "stdout",
     "output_type": "stream",
     "text": [
      "score=0.283534\n"
     ]
    }
   ],
   "source": [
    "#AGGIUNGERE COLONNE DI FODDER PEGGIORA SENSIBILMENTE IL VALORE DELLO SCORE\n",
    "\n",
    "#In questo esempio la funzione è y=first_line(x), quindi per ogni columns>1 ho una colonna di spazzatura\n",
    "#Già con N=50 la pipeline non riesce a trovare la relazione\n",
    "N=1000\n",
    "mx=1000\n",
    "columns=30\n",
    "x=np.floor(mx*np.random.rand(N,columns)).astype(int)\n",
    "y=[i[0] for i in x]\n",
    "\n",
    "\n",
    "pipe_logistic = Pipeline([\n",
    "    ('encoder', OneHotEncoder(sparse=False, handle_unknown='ignore')),\n",
    "    ('scaler', StandardScaler()),\n",
    "    ('regressor', LogisticRegression(max_iter=10000))\n",
    "])\n",
    "\n",
    "pipe_logistic = pipe_logistic.fit(x, y)\n",
    "\n",
    "x_test=np.floor(mx*np.random.rand(N,columns)).astype(int)\n",
    "y_test=[i[0] for i in x_test]\n",
    "\n",
    "y_pred = pipe_logistic.predict(x_test)\n",
    "\n",
    "\n",
    "print(\"score=%f\" % r2_score(y_pred, y_test))\n"
   ]
  },
  {
   "cell_type": "code",
   "execution_count": null,
   "id": "fc505f59",
   "metadata": {},
   "outputs": [],
   "source": []
  },
  {
   "cell_type": "code",
   "execution_count": null,
   "id": "dd012c43",
   "metadata": {},
   "outputs": [],
   "source": []
  }
 ],
 "metadata": {
  "kernelspec": {
   "display_name": "Python 3",
   "language": "python",
   "name": "python3"
  },
  "language_info": {
   "codemirror_mode": {
    "name": "ipython",
    "version": 3
   },
   "file_extension": ".py",
   "mimetype": "text/x-python",
   "name": "python",
   "nbconvert_exporter": "python",
   "pygments_lexer": "ipython3",
   "version": "3.9.4"
  }
 },
 "nbformat": 4,
 "nbformat_minor": 5
}
