{
 "cells": [
  {
   "cell_type": "code",
   "execution_count": 1,
   "id": "1039eb2f",
   "metadata": {},
   "outputs": [
    {
     "name": "stdout",
     "output_type": "stream",
     "text": [
      "POINT (1 4)\n",
      "POINT (0 3)\n",
      "0    False\n",
      "1     True\n",
      "Name: geometry, dtype: bool\n",
      "                  geometry\n",
      "1  POINT (0.00000 3.00000)\n"
     ]
    }
   ],
   "source": [
    "from shapely.ops import nearest_points\n",
    "from shapely.geometry import Point\n",
    "import geopandas as gpd\n",
    "\n",
    "print(nearest_points(Point(0,2), Point(1,4))[1])  #Crea tupla in cui butta primo e secondo numero\n",
    "\n",
    "A=gpd.GeoDataFrame()\n",
    "A[\"geometry\"]=[Point(1,4), Point(0,3)]\n",
    "\n",
    "##Serve passare per dataframe per fare unary union (non so how altrimenti, sicuro c'è modo)\n",
    "u=nearest_points(Point(0,2), A.geometry.unary_union)[1]\n",
    "print(u)\n",
    "\n",
    "nearest=A[\"geometry\"]==u\n",
    "print(nearest)\n",
    "\n",
    "print(A[nearest])  \n",
    "#print(A[u])\n",
    "\n",
    "#Metti tutto insieme, e trovi la stazione giusta\n",
    "\n",
    "#Giusto come nota:  stations[[True]*20+[False]*16][\"station\"].values[0]"
   ]
  },
  {
   "cell_type": "code",
   "execution_count": 35,
   "id": "2f47ac88",
   "metadata": {},
   "outputs": [
    {
     "data": {
      "text/plain": [
       "0      POINT (1.00000 4.00000)\n",
       "1      POINT (0.00000 3.00000)\n",
       "2      POINT (1.00000 4.00000)\n",
       "3      POINT (0.00000 3.00000)\n",
       "4      POINT (1.00000 4.00000)\n",
       "                ...           \n",
       "795    POINT (0.00000 3.00000)\n",
       "796    POINT (1.00000 4.00000)\n",
       "797    POINT (0.00000 3.00000)\n",
       "798    POINT (1.00000 4.00000)\n",
       "799    POINT (0.00000 3.00000)\n",
       "Name: geometry, Length: 800, dtype: geometry"
      ]
     },
     "execution_count": 35,
     "metadata": {},
     "output_type": "execute_result"
    }
   ],
   "source": [
    "A.geometry"
   ]
  },
  {
   "cell_type": "code",
   "execution_count": null,
   "id": "be99d39e",
   "metadata": {},
   "outputs": [],
   "source": []
  },
  {
   "cell_type": "code",
   "execution_count": null,
   "id": "40e26e03",
   "metadata": {},
   "outputs": [],
   "source": [
    "\n"
   ]
  },
  {
   "cell_type": "code",
   "execution_count": null,
   "id": "b641b66a",
   "metadata": {},
   "outputs": [],
   "source": []
  }
 ],
 "metadata": {
  "kernelspec": {
   "display_name": "Python 3",
   "language": "python",
   "name": "python3"
  },
  "language_info": {
   "codemirror_mode": {
    "name": "ipython",
    "version": 3
   },
   "file_extension": ".py",
   "mimetype": "text/x-python",
   "name": "python",
   "nbconvert_exporter": "python",
   "pygments_lexer": "ipython3",
   "version": "3.8.10"
  }
 },
 "nbformat": 4,
 "nbformat_minor": 5
}
