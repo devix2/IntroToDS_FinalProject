{
 "cells": [
  {
   "cell_type": "code",
   "execution_count": 98,
   "id": "7f8a50e5",
   "metadata": {},
   "outputs": [],
   "source": [
    "from scipy import *\n",
    "from numpy import *\n",
    "import pandas as pd\n",
    "import numpy as np\n",
    "import geopandas as gpd\n",
    "from pathlib import Path\n",
    "import numpy\n",
    "import numpy as np\n",
    "import pandas as pd\n",
    "import geopandas as gpd\n",
    "import matplotlib.pyplot as plt\n",
    "from functions import *\n",
    "import seaborn as sns\n",
    "\n",
    "import make_dataset as m_d\n",
    "### Per usare multi cartelle\n",
    "#import sys\n",
    "#sys.path.append('./../src')\n",
    "#print(sys.path)\n",
    "\n",
    "#data_path = Path('./data/raw')   #Per Cookiecutter\n",
    "data_path = Path('./data/raw')\n",
    "# subdivide the time series\n",
    "def date_divider(df):\n",
    "    \"\"\"\n",
    "    This Fuction extracts the data from an undivided data format YYYY-MM-DDThh-mm-ss\n",
    "    Where T stands for Time and has no further meaning\n",
    "    \"\"\"\n",
    "    column_names = [\"month\", \"day\", \"hours\", \"temperature\", \"rain\"]\n",
    "    out = pd.DataFrame(columns=column_names)\n",
    "    N = len(df[\"created\"])  # Numero tweets creati in un giorno\n",
    "    for i in range(0, N):\n",
    "        # Inizializzo ogni riga o crasha\n",
    "        out.loc[i] = \"NaN\"\n",
    "        # Tempo\n",
    "        # Tw_final.loc[i][\"year\"]=int(tweets.loc[i][\"created\"][0:4])  #Chemmifrega dell'anno, tutti uguali\n",
    "        out.loc[i][\"month\"] = int(df.loc[i][\"created\"][5:7])\n",
    "        out.loc[i][\"day\"] = int(df.loc[i][\"created\"][8:10])\n",
    "        out.loc[i][\"hours\"] = int(df.loc[i][\"created\"][11:13]) + 0.5 * (\n",
    "            int(df.loc[i][\"created\"][14:16]) >= 30)\n",
    "    return out\n",
    "\"\"\"\n",
    "#Temperatura, per ricavare questa usiamo la stazione più vicina al tweet (sfortunamente il Trentino non ne ha tante)\n",
    "dmin=10000000000\n",
    "for st in weather.groupby(station):\n",
    "    d=tweets[\"geometry\"].distance(st[geometry])\n",
    "gdf['distance'] = gdf['centroid'].distance(queens_point)\n",
    "Tw_final.loc[i][\"temperature\"]=int(tweets.loc[i][\"created\"][5:7])\n",
    "\"\"\"\n",
    "\n",
    "\n",
    "\"\"\"\n",
    "    NB:\n",
    "    Support class to divide the hours dataset\n",
    "    \"\"\"\n",
    "def Access_counter(df):\n",
    "    \"\"\"\n",
    "    Please note that the data must be preprocessed by \"date_divider\" in order to work\n",
    "    This function DOES NOT work with raw data\n",
    "    This function assign a label to the minutes of the raw data in order to match them to the time resolution of the temperature aquisition.\n",
    "    The result of this programme is a dictionair containing all the days!!\n",
    "    \"\"\"\n",
    "    # I create a Support dictionary in order to get all the accesses subdivided by day\n",
    "    dict = {}\n",
    "    # Lunghezza is the number of elements\n",
    "    lunghezza = 0\n",
    "    k = 0\n",
    "    mesi = df[\"month\"].unique()\n",
    "    for mese in mesi:\n",
    "        temp = df[df[\"month\"] == mese]\n",
    "        lunghezza = len(temp['day'].unique())\n",
    "        for j in range(lunghezza):\n",
    "            data = temp[temp[\"day\"] == j]\n",
    "            bins = numpy.linspace(0, 24, 49)\n",
    "            dict[k], edges = numpy.histogram(data['hours'], bins)\n",
    "            k = k+1\n",
    "    return dict\n",
    "\n"
   ]
  },
  {
   "cell_type": "code",
   "execution_count": 90,
   "id": "37f13a1d",
   "metadata": {},
   "outputs": [
    {
     "name": "stdout",
     "output_type": "stream",
     "text": [
      "[ 0.   0.5  1.   1.5  2.   2.5  3.   3.5  4.   4.5  5.   5.5  6.   6.5\n",
      "  7.   7.5  8.   8.5  9.   9.5 10.  10.5 11.  11.5 12.  12.5 13.  13.5\n",
      " 14.  14.5 15.  15.5 16.  16.5 17.  17.5 18.  18.5 19.  19.5 20.  20.5\n",
      " 21.  21.5 22.  22.5 23.  23.5 24. ]\n"
     ]
    }
   ],
   "source": [
    "bins = numpy.linspace(0, 24, 49)\n",
    "print(bins)"
   ]
  },
  {
   "cell_type": "code",
   "execution_count": 2,
   "id": "ab9f9eeb",
   "metadata": {},
   "outputs": [
    {
     "name": "stdout",
     "output_type": "stream",
     "text": [
      "(27941, 6)\n"
     ]
    },
    {
     "data": {
      "text/html": [
       "<div>\n",
       "<style scoped>\n",
       "    .dataframe tbody tr th:only-of-type {\n",
       "        vertical-align: middle;\n",
       "    }\n",
       "\n",
       "    .dataframe tbody tr th {\n",
       "        vertical-align: top;\n",
       "    }\n",
       "\n",
       "    .dataframe thead th {\n",
       "        text-align: right;\n",
       "    }\n",
       "</style>\n",
       "<table border=\"1\" class=\"dataframe\">\n",
       "  <thead>\n",
       "    <tr style=\"text-align: right;\">\n",
       "      <th></th>\n",
       "      <th>created</th>\n",
       "      <th>timestamp</th>\n",
       "      <th>user</th>\n",
       "      <th>municipality.name</th>\n",
       "      <th>language</th>\n",
       "      <th>geometry</th>\n",
       "    </tr>\n",
       "  </thead>\n",
       "  <tbody>\n",
       "    <tr>\n",
       "      <th>0</th>\n",
       "      <td>2013-11-01T00:04:16</td>\n",
       "      <td>1383260656</td>\n",
       "      <td>5fd4f31f75</td>\n",
       "      <td>Trento</td>\n",
       "      <td>it</td>\n",
       "      <td>POINT (11.13000 46.07000)</td>\n",
       "    </tr>\n",
       "    <tr>\n",
       "      <th>1</th>\n",
       "      <td>2013-11-01T00:01:14</td>\n",
       "      <td>1383260474</td>\n",
       "      <td>68c0e98182</td>\n",
       "      <td>Pinzolo</td>\n",
       "      <td>tl</td>\n",
       "      <td>POINT (10.83000 46.23000)</td>\n",
       "    </tr>\n",
       "    <tr>\n",
       "      <th>2</th>\n",
       "      <td>2013-11-01T00:43:03</td>\n",
       "      <td>1383262983</td>\n",
       "      <td>abe21fc052</td>\n",
       "      <td>Cavalese</td>\n",
       "      <td>en</td>\n",
       "      <td>POINT (11.46000 46.29000)</td>\n",
       "    </tr>\n",
       "    <tr>\n",
       "      <th>3</th>\n",
       "      <td>2013-11-01T00:38:37</td>\n",
       "      <td>1383262717</td>\n",
       "      <td>94d1efbbfd</td>\n",
       "      <td>Rovereto</td>\n",
       "      <td>it</td>\n",
       "      <td>POINT (11.04000 45.89000)</td>\n",
       "    </tr>\n",
       "    <tr>\n",
       "      <th>4</th>\n",
       "      <td>2013-11-01T00:45:40</td>\n",
       "      <td>1383263140</td>\n",
       "      <td>d261d03075</td>\n",
       "      <td>San Michele all'Adige</td>\n",
       "      <td>ru</td>\n",
       "      <td>POINT (11.12000 46.20000)</td>\n",
       "    </tr>\n",
       "    <tr>\n",
       "      <th>5</th>\n",
       "      <td>2013-11-01T00:45:17</td>\n",
       "      <td>1383263117</td>\n",
       "      <td>46c436c9f1</td>\n",
       "      <td>Trento</td>\n",
       "      <td>es</td>\n",
       "      <td>POINT (11.13000 46.06000)</td>\n",
       "    </tr>\n",
       "    <tr>\n",
       "      <th>6</th>\n",
       "      <td>2013-11-05T00:52:09</td>\n",
       "      <td>1383609129</td>\n",
       "      <td>cd79302fa7</td>\n",
       "      <td>Rovereto</td>\n",
       "      <td>und</td>\n",
       "      <td>POINT (11.03000 45.89000)</td>\n",
       "    </tr>\n",
       "    <tr>\n",
       "      <th>7</th>\n",
       "      <td>2013-11-01T01:25:10</td>\n",
       "      <td>1383265510</td>\n",
       "      <td>5fd4f31f75</td>\n",
       "      <td>Trento</td>\n",
       "      <td>it</td>\n",
       "      <td>POINT (11.13000 46.07000)</td>\n",
       "    </tr>\n",
       "    <tr>\n",
       "      <th>8</th>\n",
       "      <td>2013-11-01T01:38:40</td>\n",
       "      <td>1383266320</td>\n",
       "      <td>5fd4f31f75</td>\n",
       "      <td>Trento</td>\n",
       "      <td>pt</td>\n",
       "      <td>POINT (11.13000 46.07000)</td>\n",
       "    </tr>\n",
       "    <tr>\n",
       "      <th>9</th>\n",
       "      <td>2013-11-01T01:28:37</td>\n",
       "      <td>1383265717</td>\n",
       "      <td>4294c6de56</td>\n",
       "      <td>Pinzolo</td>\n",
       "      <td>en</td>\n",
       "      <td>POINT (10.82000 46.23000)</td>\n",
       "    </tr>\n",
       "  </tbody>\n",
       "</table>\n",
       "</div>"
      ],
      "text/plain": [
       "               created   timestamp        user      municipality.name  \\\n",
       "0  2013-11-01T00:04:16  1383260656  5fd4f31f75                 Trento   \n",
       "1  2013-11-01T00:01:14  1383260474  68c0e98182                Pinzolo   \n",
       "2  2013-11-01T00:43:03  1383262983  abe21fc052               Cavalese   \n",
       "3  2013-11-01T00:38:37  1383262717  94d1efbbfd               Rovereto   \n",
       "4  2013-11-01T00:45:40  1383263140  d261d03075  San Michele all'Adige   \n",
       "5  2013-11-01T00:45:17  1383263117  46c436c9f1                 Trento   \n",
       "6  2013-11-05T00:52:09  1383609129  cd79302fa7               Rovereto   \n",
       "7  2013-11-01T01:25:10  1383265510  5fd4f31f75                 Trento   \n",
       "8  2013-11-01T01:38:40  1383266320  5fd4f31f75                 Trento   \n",
       "9  2013-11-01T01:28:37  1383265717  4294c6de56                Pinzolo   \n",
       "\n",
       "  language                   geometry  \n",
       "0       it  POINT (11.13000 46.07000)  \n",
       "1       tl  POINT (10.83000 46.23000)  \n",
       "2       en  POINT (11.46000 46.29000)  \n",
       "3       it  POINT (11.04000 45.89000)  \n",
       "4       ru  POINT (11.12000 46.20000)  \n",
       "5       es  POINT (11.13000 46.06000)  \n",
       "6      und  POINT (11.03000 45.89000)  \n",
       "7       it  POINT (11.13000 46.07000)  \n",
       "8       pt  POINT (11.13000 46.07000)  \n",
       "9       en  POINT (10.82000 46.23000)  "
      ]
     },
     "execution_count": 2,
     "metadata": {},
     "output_type": "execute_result"
    }
   ],
   "source": [
    "#Questo fallisce ad importare, come mostrato a lezione 24\n",
    "import json\n",
    "tweets_json = json.load( open(m_d.data_path / m_d.files['twitter'][0]) )\n",
    "\n",
    "tweets = gpd.GeoDataFrame(tweets_json['features'])\n",
    "\n",
    "#Creiamo il punto smontando la casella point\n",
    "from shapely.geometry import Point\n",
    "tweets['geometry'] = tweets['geomPoint.geom'].apply(lambda x:Point(x['coordinates'][0], x['coordinates'][1]))\n",
    "tweets.drop(columns=['geomPoint.geom'],inplace=True)\n",
    "\n",
    "#Droppo roba inutile\n",
    "tweets.drop(columns=['municipality.acheneID'],inplace=True)\n",
    "tweets.drop(columns=['entities'],inplace=True)\n",
    "\n",
    "\n",
    "print(tweets.shape)\n",
    "#tweets.dtypes\n",
    "tweets.head(10)\n"
   ]
  },
  {
   "cell_type": "code",
   "execution_count": 3,
   "id": "150fa1fe",
   "metadata": {},
   "outputs": [],
   "source": [
    "tweets = date_divider(tweets)"
   ]
  },
  {
   "cell_type": "code",
   "execution_count": 7,
   "id": "d707ce3b",
   "metadata": {},
   "outputs": [
    {
     "data": {
      "text/html": [
       "<div>\n",
       "<style scoped>\n",
       "    .dataframe tbody tr th:only-of-type {\n",
       "        vertical-align: middle;\n",
       "    }\n",
       "\n",
       "    .dataframe tbody tr th {\n",
       "        vertical-align: top;\n",
       "    }\n",
       "\n",
       "    .dataframe thead th {\n",
       "        text-align: right;\n",
       "    }\n",
       "</style>\n",
       "<table border=\"1\" class=\"dataframe\">\n",
       "  <thead>\n",
       "    <tr style=\"text-align: right;\">\n",
       "      <th></th>\n",
       "      <th>month</th>\n",
       "      <th>day</th>\n",
       "      <th>hours</th>\n",
       "      <th>temperature</th>\n",
       "      <th>rain</th>\n",
       "    </tr>\n",
       "  </thead>\n",
       "  <tbody>\n",
       "    <tr>\n",
       "      <th>0</th>\n",
       "      <td>11</td>\n",
       "      <td>1</td>\n",
       "      <td>0.0</td>\n",
       "      <td>NaN</td>\n",
       "      <td>NaN</td>\n",
       "    </tr>\n",
       "    <tr>\n",
       "      <th>1</th>\n",
       "      <td>11</td>\n",
       "      <td>1</td>\n",
       "      <td>0.0</td>\n",
       "      <td>NaN</td>\n",
       "      <td>NaN</td>\n",
       "    </tr>\n",
       "    <tr>\n",
       "      <th>2</th>\n",
       "      <td>11</td>\n",
       "      <td>1</td>\n",
       "      <td>0.5</td>\n",
       "      <td>NaN</td>\n",
       "      <td>NaN</td>\n",
       "    </tr>\n",
       "    <tr>\n",
       "      <th>3</th>\n",
       "      <td>11</td>\n",
       "      <td>1</td>\n",
       "      <td>0.5</td>\n",
       "      <td>NaN</td>\n",
       "      <td>NaN</td>\n",
       "    </tr>\n",
       "    <tr>\n",
       "      <th>4</th>\n",
       "      <td>11</td>\n",
       "      <td>1</td>\n",
       "      <td>0.5</td>\n",
       "      <td>NaN</td>\n",
       "      <td>NaN</td>\n",
       "    </tr>\n",
       "    <tr>\n",
       "      <th>...</th>\n",
       "      <td>...</td>\n",
       "      <td>...</td>\n",
       "      <td>...</td>\n",
       "      <td>...</td>\n",
       "      <td>...</td>\n",
       "    </tr>\n",
       "    <tr>\n",
       "      <th>27936</th>\n",
       "      <td>12</td>\n",
       "      <td>31</td>\n",
       "      <td>0.0</td>\n",
       "      <td>NaN</td>\n",
       "      <td>NaN</td>\n",
       "    </tr>\n",
       "    <tr>\n",
       "      <th>27937</th>\n",
       "      <td>12</td>\n",
       "      <td>29</td>\n",
       "      <td>13.0</td>\n",
       "      <td>NaN</td>\n",
       "      <td>NaN</td>\n",
       "    </tr>\n",
       "    <tr>\n",
       "      <th>27938</th>\n",
       "      <td>11</td>\n",
       "      <td>19</td>\n",
       "      <td>0.5</td>\n",
       "      <td>NaN</td>\n",
       "      <td>NaN</td>\n",
       "    </tr>\n",
       "    <tr>\n",
       "      <th>27939</th>\n",
       "      <td>11</td>\n",
       "      <td>23</td>\n",
       "      <td>9.5</td>\n",
       "      <td>NaN</td>\n",
       "      <td>NaN</td>\n",
       "    </tr>\n",
       "    <tr>\n",
       "      <th>27940</th>\n",
       "      <td>12</td>\n",
       "      <td>31</td>\n",
       "      <td>16.5</td>\n",
       "      <td>NaN</td>\n",
       "      <td>NaN</td>\n",
       "    </tr>\n",
       "  </tbody>\n",
       "</table>\n",
       "<p>27941 rows × 5 columns</p>\n",
       "</div>"
      ],
      "text/plain": [
       "      month day hours temperature rain\n",
       "0        11   1   0.0         NaN  NaN\n",
       "1        11   1   0.0         NaN  NaN\n",
       "2        11   1   0.5         NaN  NaN\n",
       "3        11   1   0.5         NaN  NaN\n",
       "4        11   1   0.5         NaN  NaN\n",
       "...     ...  ..   ...         ...  ...\n",
       "27936    12  31   0.0         NaN  NaN\n",
       "27937    12  29  13.0         NaN  NaN\n",
       "27938    11  19   0.5         NaN  NaN\n",
       "27939    11  23   9.5         NaN  NaN\n",
       "27940    12  31  16.5         NaN  NaN\n",
       "\n",
       "[27941 rows x 5 columns]"
      ]
     },
     "execution_count": 7,
     "metadata": {},
     "output_type": "execute_result"
    }
   ],
   "source": [
    "tweets\n"
   ]
  },
  {
   "cell_type": "code",
   "execution_count": 14,
   "id": "d6ff815c",
   "metadata": {},
   "outputs": [
    {
     "data": {
      "text/plain": [
       "int"
      ]
     },
     "execution_count": 14,
     "metadata": {},
     "output_type": "execute_result"
    }
   ],
   "source": [
    "a = 3\n",
    "type(a)"
   ]
  },
  {
   "cell_type": "code",
   "execution_count": 19,
   "id": "74523771",
   "metadata": {},
   "outputs": [
    {
     "data": {
      "text/plain": [
       "numpy.ndarray"
      ]
     },
     "execution_count": 19,
     "metadata": {},
     "output_type": "execute_result"
    }
   ],
   "source": [
    "type(tweets['hours'])"
   ]
  },
  {
   "cell_type": "code",
   "execution_count": 100,
   "id": "b0518cc1",
   "metadata": {},
   "outputs": [
    {
     "name": "stdout",
     "output_type": "stream",
     "text": [
      "[ 6  7  0  1  0  1  1  0  0  0  0  1  0  2  1  1  1  3  7  6  4  3  3  9\n",
      " 12  2  7  8  6 12  5 13 11  7  7  6  5  7 11 13  2  7  7  4 10  4  6  1]\n"
     ]
    }
   ],
   "source": [
    "dictionary = Access_counter(tweets)\n",
    "print(dictionary[16])"
   ]
  },
  {
   "cell_type": "code",
   "execution_count": 122,
   "id": "2c13e506",
   "metadata": {},
   "outputs": [
    {
     "name": "stdout",
     "output_type": "stream",
     "text": [
      "[ 0.   0.5  1.   1.5  2.   2.5  3.   3.5  4.   4.5  5.   5.5  6.   6.5\n",
      "  7.   7.5  8.   8.5  9.   9.5 10.  10.5 11.  11.5 12.  12.5 13.  13.5\n",
      " 14.  14.5 15.  15.5 16.  16.5 17.  17.5 18.  18.5 19.  19.5 20.  20.5\n",
      " 21.  21.5 22.  22.5 23.  23.5 24. ]\n"
     ]
    },
    {
     "data": {
      "text/plain": [
       "49"
      ]
     },
     "execution_count": 122,
     "metadata": {},
     "output_type": "execute_result"
    }
   ],
   "source": [
    "print(edges)\n",
    "len(edges)"
   ]
  },
  {
   "cell_type": "code",
   "execution_count": 131,
   "id": "c6db4961",
   "metadata": {},
   "outputs": [
    {
     "name": "stdout",
     "output_type": "stream",
     "text": [
      "[668. 681. 367. 370. 249. 168.  87.  34.  72. 101.  65.  53.  92. 424.\n",
      " 571. 370. 387. 448. 511. 615. 588. 603. 590. 557. 559. 650. 644. 695.\n",
      " 654. 714. 769. 552. 663. 664. 703. 856. 849. 873. 783. 724. 776. 884.\n",
      " 984. 946. 844. 847. 669. 585.]\n",
      "[668. 681. 367. 370. 249. 168.  87.  34.  72. 101.  65.  53.  92. 424.\n",
      " 571. 370. 387. 448. 511. 615. 588. 603. 590. 557. 559. 650. 644. 695.\n",
      " 654. 714. 769. 552. 663. 664. 703. 856. 849. 873. 783. 724. 776. 884.\n",
      " 984. 946. 844. 847. 669. 585.]\n",
      "[ 0.   0.5  1.   1.5  2.   2.5  3.   3.5  4.   4.5  5.   5.5  6.   6.5\n",
      "  7.   7.5  8.   8.5  9.   9.5 10.  10.5 11.  11.5 12.  12.5 13.  13.5\n",
      " 14.  14.5 15.  15.5 16.  16.5 17.  17.5 18.  18.5 19.  19.5 20.  20.5\n",
      " 21.  21.5 22.  22.5 23.  23.5 24. ]\n"
     ]
    },
    {
     "data": {
      "text/plain": [
       "[<matplotlib.lines.Line2D at 0x212bec90700>]"
      ]
     },
     "execution_count": 131,
     "metadata": {},
     "output_type": "execute_result"
    },
    {
     "data": {
      "image/png": "[encoded data removed]",
      "text/plain": [
       "<Figure size 432x288 with 1 Axes>"
      ]
     },
     "metadata": {
      "needs_background": "light"
     },
     "output_type": "display_data"
    }
   ],
   "source": [
    "a = np.zeros(48)\n",
    "for i in range(len(dictionary)):\n",
    "    a = a + dictionary[i]\n",
    "print(a)\n",
    "print(a)\n",
    "print(edges)\n",
    "plt.plot(a, )"
   ]
  },
  {
   "cell_type": "code",
   "execution_count": null,
   "id": "5fd0aae9",
   "metadata": {},
   "outputs": [],
   "source": []
  }
 ],
 "metadata": {
  "kernelspec": {
   "display_name": "Python 3",
   "language": "python",
   "name": "python3"
  },
  "language_info": {
   "codemirror_mode": {
    "name": "ipython",
    "version": 3
   },
   "file_extension": ".py",
   "mimetype": "text/x-python",
   "name": "python",
   "nbconvert_exporter": "python",
   "pygments_lexer": "ipython3",
   "version": "3.9.4"
  }
 },
 "nbformat": 4,
 "nbformat_minor": 5
}
