{
 "cells": [
  {
   "cell_type": "code",
   "execution_count": null,
   "id": "1039eb2f",
   "metadata": {},
   "outputs": [],
   "source": [
    "#ADMINISTRATIVE REGIONS\n",
    "adm_reg=m_d.safe_import(\"adm_reg\")\n",
    "adm_reg"
   ]
  },
  {
   "cell_type": "code",
   "execution_count": null,
   "id": "2f47ac88",
   "metadata": {},
   "outputs": [],
   "source": [
    "#Vediamo cosa contiene e come è importato\n",
    "\n",
    "\"\"\"\n",
    "#Opzioni di prints per i dataframe panda per visualizzare intere righe\n",
    "pd.set_option('display.max_rows', None)\n",
    "pd.set_option('display.max_columns', None)\n",
    "pd.set_option('display.width', None)\n",
    "pd.set_option('display.max_colwidth', -1)\n",
    "\n",
    "print(adm_reg.loc[[0]])     #E' chiaro che molte delle info sono contenute nella colonna 2 che è una mappa non svolta\n",
    "print(adm_reg.count)        #Questi valori sono tutti uguali\n",
    "#Visto che anche la terza colonna ci è inutile, l'effettivo database consiste nello svolgere la colonna 2\n",
    "\"\"\"\n",
    "\n",
    "adm_reg=pd.DataFrame(list(adm_reg['items']))\n",
    "adm_reg.head(5)"
   ]
  }
 ],
 "metadata": {
  "kernelspec": {
   "display_name": "Python 3",
   "language": "python",
   "name": "python3"
  },
  "language_info": {
   "codemirror_mode": {
    "name": "ipython",
    "version": 3
   },
   "file_extension": ".py",
   "mimetype": "text/x-python",
   "name": "python",
   "nbconvert_exporter": "python",
   "pygments_lexer": "ipython3",
   "version": "3.8.10"
  }
 },
 "nbformat": 4,
 "nbformat_minor": 5
}
