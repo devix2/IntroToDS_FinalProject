{
 "cells": [
  {
   "cell_type": "markdown",
   "id": "a801898b",
   "metadata": {},
   "source": [
    "## machine learning"
   ]
  },
  {
   "cell_type": "markdown",
   "id": "3c1c1b93",
   "metadata": {},
   "source": [
    "Iniziamo con la prima task, ovvero prevedere l'attività di twitter a livello provinciale, iniziamo assumendo una discretizzazione del tempo di 30 minuti in 30 minuti. Questo è dovuto al fatto che, grazie all'EDA, abbiamo osservato dei picchi di traffico attorno a mezzanott"
   ]
  },
  {
   "cell_type": "code",
   "execution_count": null,
   "id": "e5836147",
   "metadata": {},
   "outputs": [],
   "source": []
  }
 ],
 "metadata": {
  "kernelspec": {
   "display_name": "Python 3",
   "language": "python",
   "name": "python3"
  },
  "language_info": {
   "codemirror_mode": {
    "name": "ipython",
    "version": 3
   },
   "file_extension": ".py",
   "mimetype": "text/x-python",
   "name": "python",
   "nbconvert_exporter": "python",
   "pygments_lexer": "ipython3",
   "version": "3.8.10"
  }
 },
 "nbformat": 4,
 "nbformat_minor": 5
}
